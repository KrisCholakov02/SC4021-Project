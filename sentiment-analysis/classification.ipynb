{
 "cells": [
  {
   "cell_type": "code",
   "execution_count": 1,
   "id": "d1de0880",
   "metadata": {},
   "outputs": [],
   "source": [
    "# from transformers import TFAutoModelForSequenceClassification\n",
    "# from transformers import AutoTokenizer\n",
    "# import re\n",
    "\n",
    "from transformers import pipeline\n",
    "from transformers import BertForSequenceClassification, BertTokenizer\n",
    "from transformers import AutoModelForSequenceClassification\n",
    "\n",
    "import pandas as pd"
   ]
  },
  {
   "cell_type": "code",
   "execution_count": 2,
   "id": "a9951b4a",
   "metadata": {},
   "outputs": [],
   "source": [
    "tokenizer = BertTokenizer.from_pretrained('bert-base-uncased')"
   ]
  },
  {
   "cell_type": "code",
   "execution_count": 3,
   "id": "4809878b",
   "metadata": {},
   "outputs": [],
   "source": [
    "# BERT model\n",
    "# LABEL_0                 -> negative\n",
    "# LABEL_1                 -> positive\n",
    "# confidence score < .1  -> neutral\n",
    "model1 = BertForSequenceClassification.from_pretrained('./bertmodel_imdb_trained')\n",
    "\n",
    "model2 = BertForSequenceClassification.from_pretrained('./bertmodel_tweets_trained')\n",
    "\n",
    "model3 = BertForSequenceClassification.from_pretrained('./bertmodel_rottentomatos_trained')"
   ]
  },
  {
   "cell_type": "code",
   "execution_count": 4,
   "id": "b31a13e0",
   "metadata": {},
   "outputs": [],
   "source": [
    "ensembleModels = [\n",
    "  pipeline(\n",
    "    \"sentiment-analysis\",\n",
    "    model = model1,\n",
    "    tokenizer = tokenizer,\n",
    "  ),\n",
    "\n",
    "  pipeline(\n",
    "    \"sentiment-analysis\",\n",
    "    model = model2,\n",
    "    tokenizer = tokenizer,\n",
    "  ),\n",
    "\n",
    "  pipeline(\n",
    "    \"sentiment-analysis\",\n",
    "    model = model3,\n",
    "    tokenizer = tokenizer,\n",
    "  ),\n",
    "]"
   ]
  },
  {
   "cell_type": "code",
   "execution_count": 5,
   "id": "e50baa91",
   "metadata": {},
   "outputs": [],
   "source": [
    "def classifyDoc(doc):\n",
    "  # [Negative, Neutral, Positive]\n",
    "  sentimentScore = [0, 0, 0]\n",
    "\n",
    "  def predictionSwitch(prediction):\n",
    "    match prediction:\n",
    "      case \"Negative\":\n",
    "        sentimentScore[0] += 1\n",
    "        return\n",
    "      case \"Neutral\":\n",
    "        sentimentScore[1] += 1\n",
    "        return\n",
    "      case \"Positive\":\n",
    "        sentimentScore[2] += 1\n",
    "        return\n",
    "\n",
    "  for index in range(len(ensembleModels)):\n",
    "    modelPrediction = ensembleModels[index](doc)[0]\n",
    "    # print(modelPrediction)\n",
    "\n",
    "    labelPrediction = \"\"\n",
    "    if modelPrediction[\"score\"] < 0.05:\n",
    "      labelPrediction = \"Neutral\"\n",
    "\n",
    "    else:\n",
    "      labelPrediction = \"Negative\" if modelPrediction[\"label\"] == \"LABEL_0\" else \"Positive\"\n",
    "\n",
    "    predictionSwitch(labelPrediction)\n",
    "\n",
    "  if sentimentScore == [1, 1, 1]:\n",
    "    return \"Neutral\"\n",
    "\n",
    "  maxPosition = sentimentScore.index(max(sentimentScore))\n",
    "\n",
    "  match maxPosition:\n",
    "    case 0:\n",
    "      return \"Negative\"\n",
    "    case 1:\n",
    "      return \"Neutral\"\n",
    "    case 2:\n",
    "      return \"Positive\""
   ]
  },
  {
   "cell_type": "code",
   "execution_count": 6,
   "id": "ca35a02a",
   "metadata": {},
   "outputs": [
    {
     "data": {
      "text/plain": [
       "'Negative'"
      ]
     },
     "execution_count": 6,
     "metadata": {},
     "output_type": "execute_result"
    }
   ],
   "source": [
    "classifyDoc(\"this makes me not so happy\")"
   ]
  },
  {
   "cell_type": "code",
   "execution_count": 7,
   "id": "e1eff5df",
   "metadata": {},
   "outputs": [
    {
     "data": {
      "text/html": [
       "<div>\n",
       "<style scoped>\n",
       "    .dataframe tbody tr th:only-of-type {\n",
       "        vertical-align: middle;\n",
       "    }\n",
       "\n",
       "    .dataframe tbody tr th {\n",
       "        vertical-align: top;\n",
       "    }\n",
       "\n",
       "    .dataframe thead th {\n",
       "        text-align: right;\n",
       "    }\n",
       "</style>\n",
       "<table border=\"1\" class=\"dataframe\">\n",
       "  <thead>\n",
       "    <tr style=\"text-align: right;\">\n",
       "      <th></th>\n",
       "      <th>body</th>\n",
       "      <th>sentiment</th>\n",
       "    </tr>\n",
       "  </thead>\n",
       "  <tbody>\n",
       "    <tr>\n",
       "      <th>0</th>\n",
       "      <td>Agree with the comments would love to play wit...</td>\n",
       "      <td>Negative</td>\n",
       "    </tr>\n",
       "    <tr>\n",
       "      <th>1</th>\n",
       "      <td>This is awesome! Nicely done. Really drawing p...</td>\n",
       "      <td>Positive</td>\n",
       "    </tr>\n",
       "    <tr>\n",
       "      <th>2</th>\n",
       "      <td>You know, I thought the same thing about this ...</td>\n",
       "      <td>Neutral</td>\n",
       "    </tr>\n",
       "    <tr>\n",
       "      <th>3</th>\n",
       "      <td>Really neat, but this is not like a daily driv...</td>\n",
       "      <td>Negative</td>\n",
       "    </tr>\n",
       "    <tr>\n",
       "      <th>4</th>\n",
       "      <td>A few weeks ago I posted a comment (which I've...</td>\n",
       "      <td>Positive</td>\n",
       "    </tr>\n",
       "    <tr>\n",
       "      <th>...</th>\n",
       "      <td>...</td>\n",
       "      <td>...</td>\n",
       "    </tr>\n",
       "    <tr>\n",
       "      <th>1114</th>\n",
       "      <td>I didn't find any posts that meet the matching...</td>\n",
       "      <td>Neutral</td>\n",
       "    </tr>\n",
       "    <tr>\n",
       "      <th>1115</th>\n",
       "      <td>Maybe people are just tired of reading the sam...</td>\n",
       "      <td>Negative</td>\n",
       "    </tr>\n",
       "    <tr>\n",
       "      <th>1116</th>\n",
       "      <td>You actually do get the effect but it's much b...</td>\n",
       "      <td>Positive</td>\n",
       "    </tr>\n",
       "    <tr>\n",
       "      <th>1117</th>\n",
       "      <td>I use big screen cinema but there are a few mo...</td>\n",
       "      <td>Negative</td>\n",
       "    </tr>\n",
       "    <tr>\n",
       "      <th>1118</th>\n",
       "      <td>One of the reasons I like watching 2D movies i...</td>\n",
       "      <td>Positive</td>\n",
       "    </tr>\n",
       "  </tbody>\n",
       "</table>\n",
       "<p>1118 rows × 2 columns</p>\n",
       "</div>"
      ],
      "text/plain": [
       "                                                   body sentiment\n",
       "0     Agree with the comments would love to play wit...  Negative\n",
       "1     This is awesome! Nicely done. Really drawing p...  Positive\n",
       "2     You know, I thought the same thing about this ...   Neutral\n",
       "3     Really neat, but this is not like a daily driv...  Negative\n",
       "4     A few weeks ago I posted a comment (which I've...  Positive\n",
       "...                                                 ...       ...\n",
       "1114  I didn't find any posts that meet the matching...   Neutral\n",
       "1115  Maybe people are just tired of reading the sam...  Negative\n",
       "1116  You actually do get the effect but it's much b...  Positive\n",
       "1117  I use big screen cinema but there are a few mo...  Negative\n",
       "1118  One of the reasons I like watching 2D movies i...  Positive\n",
       "\n",
       "[1118 rows x 2 columns]"
      ]
     },
     "execution_count": 7,
     "metadata": {},
     "output_type": "execute_result"
    }
   ],
   "source": [
    "ground_truth_df = pd.read_csv('./ground truth.csv', encoding='latin1')\n",
    "ground_truth_df = ground_truth_df[['body', 'sentiment']]\n",
    "ground_truth_df.dropna(inplace=True)\n",
    "ground_truth_df"
   ]
  },
  {
   "cell_type": "code",
   "execution_count": 36,
   "id": "0d8354a9",
   "metadata": {},
   "outputs": [
    {
     "name": "stdout",
     "output_type": "stream",
     "text": [
      "Including neutral\n",
      "match:\t\t 663\n",
      "unmatch:\t 159\n"
     ]
    }
   ],
   "source": [
    "allMatchCount = 0\n",
    "allUnmatchCount = 0\n",
    "mapping = {\n",
    "    \"Positive\": {\n",
    "        \"Positive\": 0,\n",
    "        \"Negative\": 0,\n",
    "    },\n",
    "    \"Negative\": {\n",
    "        \"Positive\": 0,\n",
    "        \"Negative\": 0,\n",
    "    },\n",
    "}\n",
    "\n",
    "for i in range(len(ground_truth_df)):\n",
    "    [body, labelledSentiment] = ground_truth_df.iloc[i].values\n",
    "    if labelledSentiment == \"Neutral\": continue\n",
    "\n",
    "    try:\n",
    "        modelSentiment = classifyDoc(body)\n",
    "    except:\n",
    "        continue\n",
    "\n",
    "    if modelSentiment == \"Neutral\": continue\n",
    "\n",
    "    # labelledSentiment = \"\"\n",
    "    # match sentiment:\n",
    "    #     case 0:\n",
    "    #         labelledSentiment = \"Negative\"\n",
    "    #     case 1:\n",
    "    #         labelledSentiment = \"Neutral\"\n",
    "    #     case 2:\n",
    "    #         labelledSentiment = \"Positive\"\n",
    "\n",
    "    mapping[modelSentiment][labelledSentiment] += 1\n",
    "    if modelSentiment == labelledSentiment:\n",
    "        allMatchCount += 1\n",
    "    else:\n",
    "        allUnmatchCount += 1\n",
    "\n",
    "        # mapping += 1\n",
    "        # print()\n",
    "        # print(body)\n",
    "        # print(\"model pred: \" + modelSentiment)\n",
    "        # print(\"label pred: \" + labelledSentiment)\n",
    "\n",
    "print(\"Including neutral\")\n",
    "print('match:\\t\\t', allMatchCount)\n",
    "print('unmatch:\\t', allUnmatchCount)"
   ]
  },
  {
   "cell_type": "code",
   "execution_count": 37,
   "id": "9365b4c6",
   "metadata": {},
   "outputs": [
    {
     "name": "stdout",
     "output_type": "stream",
     "text": [
      "198 \t 99\n",
      "60 \t 465\n"
     ]
    }
   ],
   "source": [
    "# tp  fp\n",
    "print(mapping[\"Positive\"][\"Positive\"], \"\\t\", mapping[\"Negative\"][\"Positive\"])\n",
    "# np  fn\n",
    "print(mapping[\"Positive\"][\"Negative\"], \"\\t\", mapping[\"Negative\"][\"Negative\"])"
   ]
  },
  {
   "cell_type": "code",
   "execution_count": 38,
   "id": "d9f830c6",
   "metadata": {},
   "outputs": [],
   "source": [
    "def pretty(d, indent=0):\n",
    "   for key, value in d.items():\n",
    "      print('\\t' * indent + str(key))\n",
    "      if isinstance(value, dict):\n",
    "         pretty(value, indent+1)\n",
    "      else:\n",
    "         print('\\t' * (indent+1) + str(value))"
   ]
  },
  {
   "cell_type": "code",
   "execution_count": 39,
   "id": "8c80c1a9",
   "metadata": {},
   "outputs": [
    {
     "name": "stdout",
     "output_type": "stream",
     "text": [
      "Positive\n",
      "\tPositive\n",
      "\t\t198\n",
      "\tNegative\n",
      "\t\t60\n",
      "Negative\n",
      "\tPositive\n",
      "\t\t99\n",
      "\tNegative\n",
      "\t\t465\n"
     ]
    }
   ],
   "source": [
    "pretty(mapping)"
   ]
  }
 ],
 "metadata": {
  "kernelspec": {
   "display_name": "Python 3 (ipykernel)",
   "language": "python",
   "name": "python3"
  },
  "language_info": {
   "codemirror_mode": {
    "name": "ipython",
    "version": 3
   },
   "file_extension": ".py",
   "mimetype": "text/x-python",
   "name": "python",
   "nbconvert_exporter": "python",
   "pygments_lexer": "ipython3",
   "version": "3.10.4"
  }
 },
 "nbformat": 4,
 "nbformat_minor": 5
}
