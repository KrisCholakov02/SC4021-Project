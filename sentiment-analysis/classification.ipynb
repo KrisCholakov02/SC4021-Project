{
 "cells": [
  {
   "cell_type": "code",
   "execution_count": 1,
   "id": "d1de0880",
   "metadata": {},
   "outputs": [],
   "source": [
    "# from transformers import TFAutoModelForSequenceClassification\n",
    "# from transformers import AutoTokenizer\n",
    "# import re\n",
    "\n",
    "from transformers import pipeline\n",
    "from transformers import BertForSequenceClassification, BertTokenizer\n",
    "from transformers import AutoModelForSequenceClassification\n",
    "\n",
    "import pandas as pd"
   ]
  },
  {
   "cell_type": "code",
   "execution_count": 2,
   "id": "a9951b4a",
   "metadata": {},
   "outputs": [],
   "source": [
    "tokenizer = BertTokenizer.from_pretrained('bert-base-uncased')"
   ]
  },
  {
   "cell_type": "code",
   "execution_count": 3,
   "id": "4809878b",
   "metadata": {},
   "outputs": [],
   "source": [
    "# BERT model\n",
    "# LABEL_0                 -> negative\n",
    "# LABEL_1                 -> positive\n",
    "# confidence score < .1  -> neutral\n",
    "model1 = BertForSequenceClassification.from_pretrained('./bertmodel_imdb_trained')\n",
    "\n",
    "model2 = BertForSequenceClassification.from_pretrained('./bertmodel_tweets_trained')\n",
    "\n",
    "model3 = BertForSequenceClassification.from_pretrained('./bertmodel_rottentomatos_trained')"
   ]
  },
  {
   "cell_type": "code",
   "execution_count": 4,
   "id": "b31a13e0",
   "metadata": {},
   "outputs": [],
   "source": [
    "ensembleModels = [\n",
    "  pipeline(\n",
    "    \"sentiment-analysis\",\n",
    "    model = model1,\n",
    "    tokenizer = tokenizer,\n",
    "  ),\n",
    "\n",
    "  pipeline(\n",
    "    \"sentiment-analysis\",\n",
    "    model = model2,\n",
    "    tokenizer = tokenizer,\n",
    "  ),\n",
    "\n",
    "  pipeline(\n",
    "    \"sentiment-analysis\",\n",
    "    model = model3,\n",
    "    tokenizer = tokenizer,\n",
    "  ),\n",
    "]"
   ]
  },
  {
   "cell_type": "code",
   "execution_count": 5,
   "id": "e50baa91",
   "metadata": {},
   "outputs": [],
   "source": [
    "def classifyDoc(doc):\n",
    "  # [negative, neutral, positive]\n",
    "  sentimentScore = [0, 0, 0]\n",
    "\n",
    "  def predictionSwitch(prediction):\n",
    "    match prediction:\n",
    "      case \"negative\":\n",
    "        sentimentScore[0] += 1\n",
    "        return\n",
    "      case \"neutral\":\n",
    "        sentimentScore[1] += 1\n",
    "        return\n",
    "      case \"positive\":\n",
    "        sentimentScore[2] += 1\n",
    "        return\n",
    "\n",
    "  for index in range(len(ensembleModels)):\n",
    "    modelPrediction = ensembleModels[index](doc)[0]\n",
    "    # print(modelPrediction)\n",
    "\n",
    "    labelPrediction = \"\"\n",
    "    if modelPrediction[\"score\"] < 0.1:\n",
    "      labelPrediction = \"neutral\"\n",
    "\n",
    "    else:\n",
    "      labelPrediction = \"negative\" if modelPrediction[\"label\"] == \"LABEL_0\" else \"positive\"\n",
    "\n",
    "    predictionSwitch(labelPrediction)\n",
    "\n",
    "  if sentimentScore == [1, 1, 1]:\n",
    "    return \"neutral\"\n",
    "\n",
    "  maxPosition = sentimentScore.index(max(sentimentScore))\n",
    "  match maxPosition:\n",
    "    case 0:\n",
    "      return \"negative\"\n",
    "    case 1:\n",
    "      return \"neutral\"\n",
    "    case 2:\n",
    "      return \"positive\""
   ]
  },
  {
   "cell_type": "code",
   "execution_count": 6,
   "id": "ca35a02a",
   "metadata": {},
   "outputs": [
    {
     "data": {
      "text/plain": [
       "'negative'"
      ]
     },
     "execution_count": 6,
     "metadata": {},
     "output_type": "execute_result"
    }
   ],
   "source": [
    "classifyDoc(\"this makes me not so happy\")"
   ]
  },
  {
   "cell_type": "code",
   "execution_count": 7,
   "id": "e1eff5df",
   "metadata": {},
   "outputs": [
    {
     "data": {
      "text/html": [
       "<div>\n",
       "<style scoped>\n",
       "    .dataframe tbody tr th:only-of-type {\n",
       "        vertical-align: middle;\n",
       "    }\n",
       "\n",
       "    .dataframe tbody tr th {\n",
       "        vertical-align: top;\n",
       "    }\n",
       "\n",
       "    .dataframe thead th {\n",
       "        text-align: right;\n",
       "    }\n",
       "</style>\n",
       "<table border=\"1\" class=\"dataframe\">\n",
       "  <thead>\n",
       "    <tr style=\"text-align: right;\">\n",
       "      <th></th>\n",
       "      <th>body</th>\n",
       "      <th>Sentiment</th>\n",
       "    </tr>\n",
       "  </thead>\n",
       "  <tbody>\n",
       "    <tr>\n",
       "      <th>0</th>\n",
       "      <td>Agree with the comments would love to play wit...</td>\n",
       "      <td>2</td>\n",
       "    </tr>\n",
       "    <tr>\n",
       "      <th>1</th>\n",
       "      <td>This is awesome! Nicely done. Really drawing p...</td>\n",
       "      <td>2</td>\n",
       "    </tr>\n",
       "    <tr>\n",
       "      <th>2</th>\n",
       "      <td>You know, I thought the same thing about this ...</td>\n",
       "      <td>2</td>\n",
       "    </tr>\n",
       "    <tr>\n",
       "      <th>3</th>\n",
       "      <td>Really neat, but this is not like a daily driv...</td>\n",
       "      <td>2</td>\n",
       "    </tr>\n",
       "    <tr>\n",
       "      <th>4</th>\n",
       "      <td>A few weeks ago I posted a comment (which I've...</td>\n",
       "      <td>1</td>\n",
       "    </tr>\n",
       "    <tr>\n",
       "      <th>...</th>\n",
       "      <td>...</td>\n",
       "      <td>...</td>\n",
       "    </tr>\n",
       "    <tr>\n",
       "      <th>94147</th>\n",
       "      <td>It works with OBJ. files from NX. My understan...</td>\n",
       "      <td>1</td>\n",
       "    </tr>\n",
       "    <tr>\n",
       "      <th>94148</th>\n",
       "      <td>You could say that's Medium by Adobe, you can ...</td>\n",
       "      <td>2</td>\n",
       "    </tr>\n",
       "    <tr>\n",
       "      <th>94149</th>\n",
       "      <td>Two weeks ago I'd have agreed. Then I upgraded...</td>\n",
       "      <td>2</td>\n",
       "    </tr>\n",
       "    <tr>\n",
       "      <th>94150</th>\n",
       "      <td>I actually didn't hear about it before. From a...</td>\n",
       "      <td>0</td>\n",
       "    </tr>\n",
       "    <tr>\n",
       "      <th>94151</th>\n",
       "      <td>I’ve just downloaded it but haven’t tried it y...</td>\n",
       "      <td>2</td>\n",
       "    </tr>\n",
       "  </tbody>\n",
       "</table>\n",
       "<p>94152 rows × 2 columns</p>\n",
       "</div>"
      ],
      "text/plain": [
       "                                                    body  Sentiment\n",
       "0      Agree with the comments would love to play wit...          2\n",
       "1      This is awesome! Nicely done. Really drawing p...          2\n",
       "2      You know, I thought the same thing about this ...          2\n",
       "3      Really neat, but this is not like a daily driv...          2\n",
       "4      A few weeks ago I posted a comment (which I've...          1\n",
       "...                                                  ...        ...\n",
       "94147  It works with OBJ. files from NX. My understan...          1\n",
       "94148  You could say that's Medium by Adobe, you can ...          2\n",
       "94149  Two weeks ago I'd have agreed. Then I upgraded...          2\n",
       "94150  I actually didn't hear about it before. From a...          0\n",
       "94151  I’ve just downloaded it but haven’t tried it y...          2\n",
       "\n",
       "[94152 rows x 2 columns]"
      ]
     },
     "execution_count": 7,
     "metadata": {},
     "output_type": "execute_result"
    }
   ],
   "source": [
    "ground_truth_df = pd.read_csv('./ground truth.csv')\n",
    "ground_truth_df = ground_truth_df[['body', 'Sentiment']]\n",
    "ground_truth_df"
   ]
  },
  {
   "cell_type": "code",
   "execution_count": 8,
   "id": "0d8354a9",
   "metadata": {},
   "outputs": [
    {
     "name": "stderr",
     "output_type": "stream",
     "text": [
      "Token indices sequence length is longer than the specified maximum sequence length for this model (518 > 512). Running this sequence through the model will result in indexing errors\n"
     ]
    },
    {
     "name": "stdout",
     "output_type": "stream",
     "text": [
      "Including neutral\n",
      "match:\t\t 1324\n",
      "unmatch:\t 1662\n",
      "unmatch mapping:\n",
      " {'negative': {'neutral': 291, 'positive': 1277}, 'neutral': {'negative': 0, 'positive': 0}, 'positive': {'neutral': 53, 'negative': 41}}\n"
     ]
    }
   ],
   "source": [
    "allMatchCount = 0\n",
    "allUnmatchCount = 0\n",
    "allUnmatchMapping = {\n",
    "    \"negative\": {\n",
    "        \"neutral\": 0,\n",
    "        \"positive\": 0,\n",
    "    },\n",
    "    \"neutral\": {\n",
    "        \"negative\": 0,\n",
    "        \"positive\": 0,\n",
    "    },\n",
    "    \"positive\": {\n",
    "        \"neutral\": 0,\n",
    "        \"negative\": 0,\n",
    "    },\n",
    "}\n",
    "\n",
    "for i in range(1000, len(ground_truth_df)):\n",
    "    if i >= 4000:\n",
    "        break\n",
    "\n",
    "    [body, sentiment] = ground_truth_df.iloc[i].values\n",
    "\n",
    "    try:\n",
    "        modelSentiment = classifyDoc(body)\n",
    "    except:\n",
    "        continue\n",
    "\n",
    "    labelledSentiment = \"\"\n",
    "    match sentiment:\n",
    "        case 0:\n",
    "            labelledSentiment = \"negative\"\n",
    "        case 1:\n",
    "            labelledSentiment = \"neutral\"\n",
    "        case 2:\n",
    "            labelledSentiment = \"positive\"\n",
    "\n",
    "    if modelSentiment == labelledSentiment:\n",
    "        allMatchCount += 1\n",
    "    else:\n",
    "        allUnmatchCount += 1\n",
    "        allUnmatchMapping[modelSentiment][labelledSentiment] += 1\n",
    "\n",
    "        # allUnmatchMapping += 1\n",
    "        # print()\n",
    "        # print(body)\n",
    "        # print(\"model pred: \" + modelSentiment)\n",
    "        # print(\"label pred: \" + labelledSentiment)\n",
    "\n",
    "print(\"Including neutral\")\n",
    "print('match:\\t\\t', allMatchCount)\n",
    "print('unmatch:\\t', allUnmatchCount)"
   ]
  },
  {
   "cell_type": "code",
   "execution_count": 9,
   "id": "d9f830c6",
   "metadata": {},
   "outputs": [],
   "source": [
    "def pretty(d, indent=0):\n",
    "   for key, value in d.items():\n",
    "      print('\\t' * indent + str(key))\n",
    "      if isinstance(value, dict):\n",
    "         pretty(value, indent+1)\n",
    "      else:\n",
    "         print('\\t' * (indent+1) + str(value))"
   ]
  },
  {
   "cell_type": "code",
   "execution_count": 10,
   "id": "8c80c1a9",
   "metadata": {},
   "outputs": [
    {
     "name": "stdout",
     "output_type": "stream",
     "text": [
      "negative\n",
      "\tneutral\n",
      "\t\t291\n",
      "\tpositive\n",
      "\t\t1277\n",
      "neutral\n",
      "\tnegative\n",
      "\t\t0\n",
      "\tpositive\n",
      "\t\t0\n",
      "positive\n",
      "\tneutral\n",
      "\t\t53\n",
      "\tnegative\n",
      "\t\t41\n"
     ]
    }
   ],
   "source": [
    "pretty(allUnmatchMapping)"
   ]
  }
 ],
 "metadata": {
  "kernelspec": {
   "display_name": "Python 3 (ipykernel)",
   "language": "python",
   "name": "python3"
  },
  "language_info": {
   "codemirror_mode": {
    "name": "ipython",
    "version": 3
   },
   "file_extension": ".py",
   "mimetype": "text/x-python",
   "name": "python",
   "nbconvert_exporter": "python",
   "pygments_lexer": "ipython3",
   "version": "3.10.4"
  }
 },
 "nbformat": 4,
 "nbformat_minor": 5
}
