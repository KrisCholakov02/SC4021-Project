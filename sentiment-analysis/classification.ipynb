{
 "cells": [
  {
   "cell_type": "code",
   "execution_count": 8,
   "metadata": {},
   "outputs": [],
   "source": [
    "from transformers import pipeline\n",
    "from transformers import AutoModelForSequenceClassification\n",
    "from transformers import TFAutoModelForSequenceClassification\n",
    "from transformers import AutoTokenizer, AutoConfig\n",
    "\n",
    "tokenizer = AutoTokenizer.from_pretrained(\"cardiffnlp/twitter-roberta-base-sentiment-latest\")"
   ]
  },
  {
   "cell_type": "code",
   "execution_count": 10,
   "id": "b31a13e0",
   "metadata": {},
   "outputs": [],
   "source": [
    "sentiment_task = pipeline(\n",
    "  \"sentiment-analysis\",\n",
    "  model = \"./saved_model\",\n",
    "  tokenizer = tokenizer\n",
    ")"
   ]
  },
  {
   "cell_type": "code",
   "execution_count": 11,
   "id": "ca35a02a",
   "metadata": {},
   "outputs": [
    {
     "data": {
      "text/plain": [
       "[{'label': 'negative', 'score': 0.6544427871704102}]"
      ]
     },
     "execution_count": 11,
     "metadata": {},
     "output_type": "execute_result"
    }
   ],
   "source": [
    "sentiment_task(\"im in pain\")"
   ]
  },
  {
   "cell_type": "code",
   "execution_count": 12,
   "id": "b691c9ee",
   "metadata": {},
   "outputs": [
    {
     "data": {
      "text/plain": [
       "'positive'"
      ]
     },
     "execution_count": 12,
     "metadata": {},
     "output_type": "execute_result"
    }
   ],
   "source": [
    "sentiment_task(\"im happy\")[0][\"label\"]"
   ]
  },
  {
   "cell_type": "code",
   "execution_count": 47,
   "id": "e1eff5df",
   "metadata": {},
   "outputs": [
    {
     "name": "stdout",
     "output_type": "stream",
     "text": [
      "                                                   Text  Sentiment\n",
      "0     So there is no way for me to plug it in here i...          0\n",
      "1                           Good case, Excellent value.          1\n",
      "2                                Great for the jawbone.          1\n",
      "3     Tied to charger for conversations lasting more...          0\n",
      "4                                     The mic is great.          1\n",
      "...                                                 ...        ...\n",
      "2995  I think food should have flavor and texture an...          0\n",
      "2996                           Appetite instantly gone.          0\n",
      "2997  Overall I was not impressed and would not go b...          0\n",
      "2998  The whole experience was underwhelming, and I ...          0\n",
      "2999  Then, as if I hadn't wasted enough of my life ...          0\n",
      "\n",
      "[3000 rows x 2 columns]\n"
     ]
    }
   ],
   "source": [
    "import pandas as pd\n",
    "import re\n",
    "\n",
    "# Read the lines of the text file\n",
    "with open('text-labelled.txt', 'r') as file:\n",
    "    lines = file.readlines()\n",
    "\n",
    "# Process each line to separate text and number using regular expressions\n",
    "data = []\n",
    "for line in lines:\n",
    "    match = re.match(r'^(.+)\\t(\\d)$', line)\n",
    "    if match:\n",
    "        text = match.group(1).strip()\n",
    "        number = int(match.group(2))\n",
    "        data.append((text, number))\n",
    "    else:\n",
    "        print(\"Skipping invalid line:\", line.strip())\n",
    "\n",
    "# Create DataFrame from processed data\n",
    "df = pd.DataFrame(data, columns=['Text', 'Sentiment'])\n",
    "\n",
    "# Display the DataFrame\n",
    "print(df)\n"
   ]
  },
  {
   "cell_type": "code",
   "execution_count": 48,
   "id": "0d8354a9",
   "metadata": {},
   "outputs": [
    {
     "name": "stdout",
     "output_type": "stream",
     "text": [
      "match:  2568\n",
      "unmatch:  432\n"
     ]
    }
   ],
   "source": [
    "matchCount = 0\n",
    "unmatchCount = 0\n",
    "\n",
    "for i in range(len(df)):\n",
    "    [text, sentiment] = df.iloc[i].values\n",
    "    sentiment = \"positive\" if sentiment == 1 else \"negative\"\n",
    "\n",
    "    if sentiment_task(text)[0][\"label\"] == sentiment:\n",
    "        matchCount += 1\n",
    "    else:\n",
    "        unmatchCount += 1\n",
    "\n",
    "print('match: ', matchCount)\n",
    "print('unmatch: ', unmatchCount)"
   ]
  }
 ],
 "metadata": {
  "kernelspec": {
   "display_name": "Python 3 (ipykernel)",
   "language": "python",
   "name": "python3"
  },
  "language_info": {
   "codemirror_mode": {
    "name": "ipython",
    "version": 3
   },
   "file_extension": ".py",
   "mimetype": "text/x-python",
   "name": "python",
   "nbconvert_exporter": "python",
   "pygments_lexer": "ipython3",
   "version": "3.10.4"
  }
 },
 "nbformat": 4,
 "nbformat_minor": 5
}
