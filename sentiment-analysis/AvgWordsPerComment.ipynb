{
 "cells": [
  {
   "cell_type": "code",
   "execution_count": 1,
   "id": "d1de0880",
   "metadata": {},
   "outputs": [],
   "source": [
    "import pandas as pd"
   ]
  },
  {
   "cell_type": "code",
   "execution_count": 2,
   "id": "e1eff5df",
   "metadata": {},
   "outputs": [
    {
     "data": {
      "text/html": [
       "<div>\n",
       "<style scoped>\n",
       "    .dataframe tbody tr th:only-of-type {\n",
       "        vertical-align: middle;\n",
       "    }\n",
       "\n",
       "    .dataframe tbody tr th {\n",
       "        vertical-align: top;\n",
       "    }\n",
       "\n",
       "    .dataframe thead th {\n",
       "        text-align: right;\n",
       "    }\n",
       "</style>\n",
       "<table border=\"1\" class=\"dataframe\">\n",
       "  <thead>\n",
       "    <tr style=\"text-align: right;\">\n",
       "      <th></th>\n",
       "      <th>body</th>\n",
       "    </tr>\n",
       "  </thead>\n",
       "  <tbody>\n",
       "    <tr>\n",
       "      <th>0</th>\n",
       "      <td>Agree with the comments would love to play wit...</td>\n",
       "    </tr>\n",
       "    <tr>\n",
       "      <th>1</th>\n",
       "      <td>This is awesome! Nicely done. Really drawing p...</td>\n",
       "    </tr>\n",
       "    <tr>\n",
       "      <th>2</th>\n",
       "      <td>You know, I thought the same thing about this ...</td>\n",
       "    </tr>\n",
       "    <tr>\n",
       "      <th>3</th>\n",
       "      <td>Really neat, but this is not like a daily driv...</td>\n",
       "    </tr>\n",
       "    <tr>\n",
       "      <th>4</th>\n",
       "      <td>A few weeks ago I posted a comment (which I've...</td>\n",
       "    </tr>\n",
       "    <tr>\n",
       "      <th>...</th>\n",
       "      <td>...</td>\n",
       "    </tr>\n",
       "    <tr>\n",
       "      <th>94125</th>\n",
       "      <td>It works with OBJ. files from NX. My understan...</td>\n",
       "    </tr>\n",
       "    <tr>\n",
       "      <th>94126</th>\n",
       "      <td>You could say that's Medium by Adobe, you can ...</td>\n",
       "    </tr>\n",
       "    <tr>\n",
       "      <th>94127</th>\n",
       "      <td>Two weeks ago I'd have agreed. Then I upgraded...</td>\n",
       "    </tr>\n",
       "    <tr>\n",
       "      <th>94128</th>\n",
       "      <td>I actually didn't hear about it before. From a...</td>\n",
       "    </tr>\n",
       "    <tr>\n",
       "      <th>94129</th>\n",
       "      <td>Iâve just downloaded it but havenât tried ...</td>\n",
       "    </tr>\n",
       "  </tbody>\n",
       "</table>\n",
       "<p>94130 rows × 1 columns</p>\n",
       "</div>"
      ],
      "text/plain": [
       "                                                    body\n",
       "0      Agree with the comments would love to play wit...\n",
       "1      This is awesome! Nicely done. Really drawing p...\n",
       "2      You know, I thought the same thing about this ...\n",
       "3      Really neat, but this is not like a daily driv...\n",
       "4      A few weeks ago I posted a comment (which I've...\n",
       "...                                                  ...\n",
       "94125  It works with OBJ. files from NX. My understan...\n",
       "94126  You could say that's Medium by Adobe, you can ...\n",
       "94127  Two weeks ago I'd have agreed. Then I upgraded...\n",
       "94128  I actually didn't hear about it before. From a...\n",
       "94129  Iâve just downloaded it but havenât tried ...\n",
       "\n",
       "[94130 rows x 1 columns]"
      ]
     },
     "execution_count": 2,
     "metadata": {},
     "output_type": "execute_result"
    }
   ],
   "source": [
    "dataset = pd.read_csv('./updated_file.csv', encoding='latin1')\n",
    "dataset = dataset[['body']]\n",
    "dataset.dropna(inplace=True)\n",
    "dataset"
   ]
  },
  {
   "cell_type": "code",
   "execution_count": 3,
   "id": "0d8354a9",
   "metadata": {},
   "outputs": [
    {
     "name": "stdout",
     "output_type": "stream",
     "text": [
      "avg per doc:\t 96.38276851163285\n"
     ]
    }
   ],
   "source": [
    "numOfWords = 0\n",
    "\n",
    "for i in range(len(dataset)):\n",
    "    [body] = dataset.iloc[i].values\n",
    "\n",
    "    numOfWords += len(body.split())\n",
    "\n",
    "print('avg per doc:\\t', numOfWords / len(dataset))"
   ]
  }
 ],
 "metadata": {
  "kernelspec": {
   "display_name": "Python 3 (ipykernel)",
   "language": "python",
   "name": "python3"
  },
  "language_info": {
   "codemirror_mode": {
    "name": "ipython",
    "version": 3
   },
   "file_extension": ".py",
   "mimetype": "text/x-python",
   "name": "python",
   "nbconvert_exporter": "python",
   "pygments_lexer": "ipython3",
   "version": "3.10.4"
  }
 },
 "nbformat": 4,
 "nbformat_minor": 5
}
